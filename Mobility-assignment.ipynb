{
 "cells": [
  {
   "cell_type": "markdown",
   "id": "da86f7c0",
   "metadata": {},
   "source": [
    "## Instructions for the assignment\n",
    "- Add your code when there is the comment \"YOUR CODE HERE\".\n",
    "- Use Markdown cells to provide your answers (when applicable)\n",
    "- Make appropriate comments to your code\n",
    "- Create a repository in your personal GitHub for the assignment\n",
    "- Tag the commit that you want to submit as *Final submission*\n",
    "- Invite me to your respository. My GitHub name is *Panchamy*\n",
    "- No need to include the data in the GitHub repository\n",
    "- DO NOT forget to run the entire notebook before submitting.\n",
    "- Feel free to contact me if you have any questions.\n",
    "\n",
    "### Deadline for submission is 24th September before 23:59"
   ]
  },
  {
   "cell_type": "markdown",
   "id": "e6502517",
   "metadata": {},
   "source": [
    "# Google Mobility Data\n",
    "\n",
    "For this assignment, we will be working with the data from Google mobility report. You can find more information about this data [here](https://www.google.com/covid19/mobility/data_documentation.html?hl=en)"
   ]
  },
  {
   "cell_type": "code",
   "execution_count": null,
   "id": "e52454ca",
   "metadata": {
    "scrolled": false
   },
   "outputs": [],
   "source": [
    "import json\n",
    "import requests\n",
    "import pandas as pd\n",
    "import geopandas as gpd\n",
    "import plotly.express as px\n",
    "from zipfile import ZipFile\n",
    "\n"
   ]
  },
  {
   "cell_type": "markdown",
   "id": "56dd3fef",
   "metadata": {},
   "source": [
    "#### 1. Download mobility data for the whole world from this [link](https://www.google.com/covid19/mobility/), choose *Region CSVs*. From the downloaded data, pick a country to work with. Why did you choose this country?"
   ]
  },
  {
   "cell_type": "code",
   "execution_count": null,
   "id": "c4acfb17",
   "metadata": {},
   "outputs": [],
   "source": [
    "## Download file\n",
    "def donwload_file(url, out_file_name):\n",
    "    res = requests.get(url)\n",
    "    with open(out_file_name,'wb') as f:\n",
    "        f.write(res.content)"
   ]
  },
  {
   "cell_type": "code",
   "execution_count": null,
   "id": "b4dede93",
   "metadata": {},
   "outputs": [],
   "source": [
    "## Extract specific files from a zip file\n",
    "def extract_files(zip_file_path, output_dir, *file_names):\n",
    "    with ZipFile(zip_file_path, \"r\") as z:\n",
    "        for fn in file_names:\n",
    "            try:\n",
    "                z.extract(fn, output_dir)\n",
    "            except Exception as e:\n",
    "                print(\"ERROR: - {} - | {}\".format(fn, e))\n",
    "                return False\n",
    "    return True\n"
   ]
  },
  {
   "cell_type": "code",
   "execution_count": null,
   "id": "f88a3eed",
   "metadata": {},
   "outputs": [],
   "source": [
    "'''\n",
    "This cell is to download and extract the Regions CSV files.\n",
    "If you cloned the whole repository so you DO NOT NEED TO RUN THIS CELL.\n",
    "But if you want to run the analysis on another region, feel free to download \n",
    "and extract your desired files.\n",
    "'''\n",
    "regions_file_name = \"Region_Mobility_Report_CSVs.zip\"\n",
    "\n",
    "## Download the Regions CSV files | Please uncomment the following lines to download  \n",
    "# reg_csvs_url = \"https://www.gstatic.com/covid19/mobility/Region_Mobility_Report_CSVs.zip\"\n",
    "# donwload_file(reg_csvs_url, regions_file_name)\n",
    "\n",
    "\n",
    "## Extract 2020-2021 NL region files\n",
    "extract_files(regions_file_name, \"data\", \"2020_NL_Region_Mobility_Report.csv\", \"2021_NL_Region_Mobility_Report.csv\")"
   ]
  },
  {
   "cell_type": "markdown",
   "id": "44606741",
   "metadata": {},
   "source": [
    "First I wanted to pick my home country data (Iran) for this assignment but the file was not provided in the dataset. Hence, I chose the Netherlands' data as it has the lowest mortality rate amongst the top 10 European countries with highest population (higher than 15 million) [REF] and it made this country attractive for further analysis in this assignment.\n",
    "\n",
    "REF: https://www.worldometers.info/coronavirus/"
   ]
  },
  {
   "cell_type": "markdown",
   "id": "b42813d5",
   "metadata": {},
   "source": [
    "#### 2. Import the 2020 and 2021 data for this country as a pandas data frame and name it as `df_2020` and `df_2021`. Print the first 5 lines of `df_2020` and `df_2021`\n",
    "\n",
    "*Hint - Cheatsheet for pandas is available [here](https://pandas.pydata.org/Pandas_Cheat_Sheet.pdf)*"
   ]
  },
  {
   "cell_type": "code",
   "execution_count": null,
   "id": "c328f544",
   "metadata": {},
   "outputs": [],
   "source": [
    "df_2020 = pd.read_csv(\"data/2020_NL_Region_Mobility_Report.csv\")\n",
    "df_2021 = pd.read_csv(\"data/2021_NL_Region_Mobility_Report.csv\")\n",
    "\n",
    "display(df_2020.head(5))\n",
    "display(df_2021.head())"
   ]
  },
  {
   "cell_type": "markdown",
   "id": "5d509f7f",
   "metadata": {},
   "source": [
    "#### 3. Combine the two dataframes `df_2020` and `df_2021` into a new dataframe `df`. Print the last 5 lines of `df`."
   ]
  },
  {
   "cell_type": "code",
   "execution_count": null,
   "id": "720edc0b",
   "metadata": {},
   "outputs": [],
   "source": [
    "df = pd.merge(df_2020, df_2021, how=\"outer\")\n",
    "\n",
    "display(df.tail(5))\n",
    "# df.info()\n",
    "\n",
    "# df.fillna({\"sub_region_1\": \"\", \"sub_region_2\": \"\"}, inplace=True)\n",
    "# display(df.head(5))\n",
    "# df.isnull().sum()"
   ]
  },
  {
   "cell_type": "markdown",
   "id": "11b879ba",
   "metadata": {},
   "source": [
    "#### 4. `df` now contains mobility data for your selected country from 2020 and 2021. This table contains data of three different aggregation levels, namely national (`country_region`), provincial (`sub_region_1`), and city (`sub_region_2`). Separate these data into three different dataframes, namely `df_nation`, `df_province`, and `df_city`.  Print the first 5 lines of each of them.  \n",
    "\n",
    "Hint:\n",
    "- For the national data, `sub_region_1` and `sub_region_2` are NaN.\n",
    "- For the provincial data, `sub_region_2` is NaN.\n",
    "- For the city data, `country_region`, `sub_region_1` and `sub_region_2` are not NaN.\n",
    "- Note that some country in the mobility report might not have city or provincial information."
   ]
  },
  {
   "cell_type": "code",
   "execution_count": null,
   "id": "638b81bf",
   "metadata": {},
   "outputs": [],
   "source": [
    "df_nation = df[(df['sub_region_1'].isnull()) & (df['sub_region_2'].isnull())]\n",
    "df_province = df[(~df['sub_region_1'].isnull()) & (df['sub_region_2'].isnull())]\n",
    "df_city = df[(~df['sub_region_1'].isnull()) & (~df['sub_region_2'].isnull())]\n",
    "\n",
    "\n",
    "print(\"\\n - - - Nation Dataframe - - - \")\n",
    "display(df_nation.head())\n",
    "# df_nation.info()\n",
    "# display(df_nation.isnull().sum())\n",
    "\n",
    "print(\"\\n - - - Province Dataframe - - - \")\n",
    "display(df_province.head())\n",
    "# df_province.info()\n",
    "# display(df_province.isnull().sum())\n",
    "\n",
    "print(\"\\n - - - City Dataframe - - - \")\n",
    "display(df_city.head())\n",
    "# df_city.info()\n",
    "# display(df_city.isnull().sum())"
   ]
  },
  {
   "cell_type": "markdown",
   "id": "05c79a3b",
   "metadata": {},
   "source": [
    "#### 5. There are multiple activities in the mobility report such as workplaces, parks, transit stations, etc. For one of the activity, visualise the percentage changes from the baseline at the city-level OR province-level in a geographical map for a given day.\n",
    "\n",
    "*Hint: Here is an example of municipal boundaries of Netherlands. You can download the municipal boundaries of Netherlands from this [link](https://geodata.nationaalgeoregister.nl/cbsgebiedsindelingen/wfs?request=GetFeature&service=WFS&version=2.0.0&typeName=cbs_gemeente_2017_gegeneraliseerd&outputFormat=json) and here is some [code](https://www.cbs.nl/en-gb/onze-diensten/open-data/statline-as-open-data/cartography) to read this file as well.*\n",
    "\n",
    "If you cannot find the boundary of your selected country. Feel free to use Netherlands data for this question.\n",
    "\n",
    "DO NOT forget to label the appropriate axes for the visualisations"
   ]
  },
  {
   "cell_type": "code",
   "execution_count": null,
   "id": "d64437c1",
   "metadata": {},
   "outputs": [],
   "source": [
    "## I already downloaded the municipal boundaries data and fetch it from my disk\n",
    "municipal_boundaries = gpd.read_file(\"data/geodata.json\")\n",
    "municipal_boundaries = pd.merge(municipal_boundaries, df_city, left_on = \"statnaam\", right_on = \"sub_region_2\")\n",
    "\n",
    "## Filtering the data for a specific day\n",
    "municipal_boundaries.query(\"date == '2021-09-14'\", inplace=True)\n",
    "\n",
    "## just to make sure we have only one entry for each city in a specific day\n",
    "# municipal_boundaries[\"statnaam\"].is_unique\n",
    "\n",
    "## Check the number of NaNs in each column and pick a column with the lowest number of NaNs for better visualization\n",
    "municipal_boundaries.isnull().sum()\n",
    "\n",
    "## Plotting the map | If you can not see the plot please run this cell again\n",
    "p = municipal_boundaries.plot(column='workplaces_percent_change_from_baseline', legend=True, figsize = (12,12))\n",
    "# p.axis('off')\n",
    "p.get_yaxis().set_ticks([])\n",
    "p.get_xaxis().set_visible(False)\n",
    "p.set_ylabel(\"Mobility trends for workplaces | Netherlands\")\n",
    "p.yaxis.set_label_position(\"right\")\n",
    "p.set_title('Percent change from baseline | WORKPLACES | 2021-09-14')\n",
    "p.spines['top'].set_visible(False)\n",
    "p.spines['right'].set_visible(False)\n",
    "p.spines['bottom'].set_visible(False)\n",
    "p.spines['left'].set_visible(False)\n"
   ]
  },
  {
   "cell_type": "markdown",
   "id": "d8cdf5fd",
   "metadata": {},
   "source": [
    "#### 6. Create a new dataframe that only contains data from the *province* with the largest percentage changes in your chosen activity from *Question 5*, which you found in the previous question and name it as `df_province_largest`. Print the first 5 lines of `df_province_largest`"
   ]
  },
  {
   "cell_type": "markdown",
   "id": "b6104c95",
   "metadata": {},
   "source": [
    "### Utrecht has the highest percentage change in workplaces"
   ]
  },
  {
   "cell_type": "code",
   "execution_count": null,
   "id": "cc37ca6c",
   "metadata": {},
   "outputs": [],
   "source": [
    "''' \n",
    "I used mean to get a general sense of percentage changes in the past. \n",
    "Finally Utrecht was selected as a province with the highest percentage change in workplaces.\n",
    "Applying Sum and Mean for aggregation process, both showed the **Utrecht** has the highest percentage change.\n",
    "'''\n",
    "prvnc_changes_mean = df_province.groupby(\"sub_region_1\", as_index=False).agg({\"workplaces_percent_change_from_baseline\": \"mean\"})\n",
    "# display(prvnc_changes_mean.sort_values(\"workplaces_percent_change_from_baseline\"))\n",
    "\n",
    "## Selecting a province with highest percentage change\n",
    "largest_prvnc_name = prvnc_changes_mean.loc[prvnc_changes_mean['workplaces_percent_change_from_baseline'].idxmin()][0]\n",
    "df_province_largest = df_province[df_province['sub_region_1'] == largest_prvnc_name].copy()\n",
    "\n",
    "display(df_province_largest.head())\n"
   ]
  },
  {
   "cell_type": "code",
   "execution_count": null,
   "id": "590855b5",
   "metadata": {},
   "outputs": [],
   "source": [
    "# Execute the cell with the following command to visualize the results\n",
    "\n",
    "#Your chosen activity. eg: 'workplaces_percent_change_from_baseline'\n",
    "activity = \"workplaces_percent_change_from_baseline\"\n",
    "\n",
    "df_province_largest['date2'] = pd.to_datetime(df_province_largest['date'])\n",
    "\n",
    "df_province_largest.plot('date2', activity, yticks = range(40,-100,-20), colormap=\"summer\", grid=True, figsize=(10,6), subplots=True)\n",
    "\n",
    "df_province_largest.resample('7D', on='date2').sum()[activity].plot(yticks = range(25,-425,-25), colormap=\"autumn\", grid=True, figsize=(10,6), subplots=True)\n",
    "\n",
    "## Visualizing the last 45 days, as it is in Google reports to make it easier for visual comparisons\n",
    "df_province_largest.tail(45).plot('date2', activity, title = \"The last 45 days of mobility data for places of work | Utrecht\", yticks = range(40,-100,-10), colormap=\"winter\", grid=True, figsize=(6,4), subplots=True)"
   ]
  },
  {
   "cell_type": "markdown",
   "id": "8a051438",
   "metadata": {},
   "source": [
    "#### 7. Compare the results above with the results in the google mobility report pdf of the province of your selected country. Discuss the differences and similarities. Please save the mobility report pdf that you used to compare the results with in your GitHub as well! An example mobility report pdf can be found [here](https://www.gstatic.com/covid19/mobility/2021-09-01_AW_Mobility_Report_en.pdf)"
   ]
  },
  {
   "cell_type": "code",
   "execution_count": null,
   "id": "7d0067cb",
   "metadata": {},
   "outputs": [],
   "source": [
    "## Download the report file [2021-09-14_NL_Utrecht_Mobility_Report_en.pdf]\n",
    "donwload_file(\"https://www.gstatic.com/covid19/mobility/2021-09-14_NL_Utrecht_Mobility_Report_en.pdf\", \"data/2021-09-14_NL_Utrecht_Mobility_Report_en.pdf\")\n",
    "\n",
    "## Download the Netherlands' provinces geojson file\n",
    "# donwload_file(\"https://www.webuildinternet.com/articles/2015-07-19-geojson-data-of-the-netherlands/provinces.geojson\", \"data/2015-07-19-geojson-data-of-the-netherlands-provinces.geojson\")\n",
    "\n",
    "# state_names_nl_en = {'Utrecht': 'Utrecht', 'Noord-Holland': 'North Holland', 'Zuid-Holland': 'South Holland', \n",
    "#                     'Flevoland': 'Flevoland', 'Groningen': 'Groningen', 'Noord-Brabant': 'North Brabant', \n",
    "#                     'Drenthe': 'Drenthe', 'Overijssel': 'Overijssel', 'Friesland (Fryslân)': 'Friesland', \n",
    "#                     'Limburg': 'Limburg', 'Gelderland': 'Gelderland', 'Zeeland': 'Zeeland'}"
   ]
  },
  {
   "cell_type": "markdown",
   "id": "ae867a5a",
   "metadata": {},
   "source": [
    "To make a better comparison with the Google reports, I plotted the last 45 days of the mobility data for workplaces in Utrecht (from the early August until 14th of Spetember). My plotted results for the last 45 days are perfectly matching with the Google reports.\n",
    "\n",
    "The percentage changes in this dataset are calculated based on the baseline median value which is for a period of 5 weeks between Jan 3–Feb 6, 2020 (Roughly the begining of the pandemic in Europe / no lockdown yet).\n",
    "\n",
    "The results show that the percentage changes are converging with the baseline with a notable slope. It means that the pandemic situation is under control at Utrecht. It is expected that this convergence continue as roughly 80 percent of the whole Netherlands' population (12 years and older) have been vaccinated and it is continuing at a fast pace. [REF]\n",
    "\n",
    "Note that when we look at the mobility plot for workplaces we should neglect the peaks that are occurring at weekends or public holidays (yet I wonder why these weekend peaks are pushing higher than the baseline each week. Maybe the vaccines are doubling people's energy :) or maybe it is an indication of a notable change in people's lifestyles during the lockdown peroid).\n",
    "\n",
    "\n",
    "REF: https://coronadashboard.government.nl/landelijk/vaccinaties"
   ]
  },
  {
   "cell_type": "markdown",
   "id": "ecc25b5c",
   "metadata": {},
   "source": [
    "# BONUS"
   ]
  },
  {
   "cell_type": "markdown",
   "id": "54518e14",
   "metadata": {},
   "source": [
    "#### Animate the percentage change over different days for the mobility activity that you chose. This is a continuation of *question 5*. \n",
    "\n",
    "This is a bonus question. So feel free to skip if you do not have sufficient time"
   ]
  },
  {
   "cell_type": "code",
   "execution_count": null,
   "id": "b32e6088",
   "metadata": {},
   "outputs": [],
   "source": [
    "'''\n",
    "Please be patient with this cell and give it some time to load the map.\n",
    "Sit back and take a sip of coffee, it may take a few minutes :D\n",
    "Do not forget to hit the PLAY button to RUN THE ANIMATION.\n",
    "'''\n",
    "\n",
    "## Reading Netherlands' provincial geometry data\n",
    "provincial_boundries_NL = gpd.read_file(\"data/2015-07-19-geojson-data-of-the-netherlands-provinces.geojson\")\n",
    "# display(provincial_boundries_NL)\n",
    "\n",
    "## Extracting coordinates of each province to add to the \"df_province\"\n",
    "state_geometry_map = {}\n",
    "for index,row in provincial_boundries_NL.iterrows():\n",
    "    state_geometry_map[row[\"name\"]] = row[\"geometry\"]\n",
    "\n",
    "## Renaming some columns\n",
    "df_province = df_province.rename(columns={'sub_region_1': 'name', 'workplaces_percent_change_from_baseline': 'Workplaces % change'})\n",
    "\n",
    "\n",
    "## Adding geometry data to the \"df_province\"\n",
    "df_province[\"geometry\"] = df_province[\"name\"].apply(lambda x: state_geometry_map[x])\n",
    "# display(df_province.tail())\n",
    "\n",
    "## Reading Netherlands' provincial geometry data as a json file to feed to our Choropleth figure\n",
    "with open(\"data/2015-07-19-geojson-data-of-the-netherlands-provinces.geojson\", \"r\") as j:\n",
    "    municipal_boundaries_NL_json = json.load(j)\n",
    "\n",
    "## Selecting the 2021 data for visualization to lower the memory usage and faster execution\n",
    "df_province = df_province[df_province['date'].str.startswith(\"2021-\") == True]\n",
    "\n",
    "\n",
    "fig = px.choropleth_mapbox(\n",
    "    df_province,\n",
    "    geojson=municipal_boundaries_NL_json,\n",
    "    locations=\"name\",\n",
    "    featureidkey=\"properties.name\",\n",
    "    color=\"Workplaces % change\",\n",
    "    hover_name=\"name\",\n",
    "    color_continuous_scale=\"portland\",\n",
    "    animation_frame=\"date\",\n",
    "    hover_data=[\"Workplaces % change\"],\n",
    "    title=\"Netherlands mobility trends for places of work\",\n",
    "    mapbox_style=\"open-street-map\",\n",
    "    center={\"lat\": 52.0, \"lon\": 5.0},\n",
    "    zoom=5,\n",
    "    opacity=0.5,\n",
    "    width=900,\n",
    "    height=600,\n",
    ")\n",
    "\n",
    "fig.show()\n"
   ]
  },
  {
   "cell_type": "code",
   "execution_count": null,
   "id": "40f3c5b6",
   "metadata": {},
   "outputs": [],
   "source": []
  }
 ],
 "metadata": {
  "kernelspec": {
   "display_name": "Python 3 (ipykernel)",
   "language": "python",
   "name": "python3"
  },
  "language_info": {
   "codemirror_mode": {
    "name": "ipython",
    "version": 3
   },
   "file_extension": ".py",
   "mimetype": "text/x-python",
   "name": "python",
   "nbconvert_exporter": "python",
   "pygments_lexer": "ipython3",
   "version": "3.9.7"
  }
 },
 "nbformat": 4,
 "nbformat_minor": 5
}
